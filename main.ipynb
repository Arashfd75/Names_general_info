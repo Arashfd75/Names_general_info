{
 "cells": [
  {
   "cell_type": "code",
   "execution_count": 44,
   "metadata": {},
   "outputs": [
    {
     "name": "stdout",
     "output_type": "stream",
     "text": [
      "Requirement already satisfied: Faker in /home/arash/.local/lib/python3.8/site-packages (14.2.0)\n",
      "Requirement already satisfied: python-dateutil>=2.4 in /home/arash/.local/lib/python3.8/site-packages (from Faker) (2.8.2)\n",
      "Requirement already satisfied: six>=1.5 in /usr/lib/python3/dist-packages (from python-dateutil>=2.4->Faker) (1.14.0)\n",
      "Requirement already satisfied: names-dataset in /home/arash/.local/lib/python3.8/site-packages (3.1.0)\n",
      "Requirement already satisfied: pycountry in /home/arash/.local/lib/python3.8/site-packages (from names-dataset) (22.3.5)\n",
      "Requirement already satisfied: setuptools in /usr/lib/python3/dist-packages (from pycountry->names-dataset) (45.2.0)\n"
     ]
    }
   ],
   "source": [
    "!pip install Faker\n",
    "!pip install names-dataset\n",
    "import numpy as np\n",
    "import pandas as pd\n",
    "from faker import Faker\n",
    "from names_dataset import NameDataset"
   ]
  },
  {
   "cell_type": "markdown",
   "metadata": {},
   "source": [
    "## Producing Fake names' generators"
   ]
  },
  {
   "cell_type": "code",
   "execution_count": 4,
   "metadata": {},
   "outputs": [],
   "source": [
    "en_fake = Faker()\n",
    "fa_fake = Faker('Fa')"
   ]
  },
  {
   "cell_type": "markdown",
   "metadata": {},
   "source": [
    "## Loading name dataset"
   ]
  },
  {
   "cell_type": "code",
   "execution_count": 6,
   "metadata": {},
   "outputs": [],
   "source": [
    "# This line takes time some time as the database is massive.\n",
    "nd = NameDataset()"
   ]
  },
  {
   "cell_type": "code",
   "execution_count": 12,
   "metadata": {},
   "outputs": [
    {
     "data": {
      "text/plain": [
       "{'first_name': {'country': {'United Arab Emirates': 0.037,\n",
       "   'Algeria': 0.054,\n",
       "   'Egypt': 0.149,\n",
       "   'Iraq': 0.142,\n",
       "   'Iran, Islamic Republic of': 0.052,\n",
       "   'Morocco': 0.079,\n",
       "   'Saudi Arabia': 0.146,\n",
       "   'Syrian Arab Republic': 0.05,\n",
       "   'Tunisia': 0.04,\n",
       "   'Turkey': 0.25},\n",
       "  'gender': {'Female': 0.058, 'Male': 0.942},\n",
       "  'rank': {'United Arab Emirates': 5,\n",
       "   'Algeria': 5,\n",
       "   'Egypt': 13,\n",
       "   'Iraq': 7,\n",
       "   'Iran, Islamic Republic of': 1,\n",
       "   'Morocco': 21,\n",
       "   'Saudi Arabia': 9,\n",
       "   'Syrian Arab Republic': 6,\n",
       "   'Tunisia': 3,\n",
       "   'Turkey': 4}},\n",
       " 'last_name': {'country': {'United Arab Emirates': 0.094,\n",
       "   'Egypt': 0.233,\n",
       "   'India': 0.026,\n",
       "   'Iraq': 0.109,\n",
       "   'Kuwait': 0.034,\n",
       "   'Malaysia': 0.025,\n",
       "   'Oman': 0.056,\n",
       "   'Saudi Arabia': 0.354,\n",
       "   'Sudan': 0.033,\n",
       "   'Syrian Arab Republic': 0.036},\n",
       "  'gender': {},\n",
       "  'rank': {'United Arab Emirates': 2,\n",
       "   'Egypt': 5,\n",
       "   'India': 10,\n",
       "   'Iraq': 4,\n",
       "   'Kuwait': 2,\n",
       "   'Malaysia': 10,\n",
       "   'Oman': 2,\n",
       "   'Saudi Arabia': 2,\n",
       "   'Sudan': 11,\n",
       "   'Syrian Arab Republic': 5}}}"
      ]
     },
     "execution_count": 12,
     "metadata": {},
     "output_type": "execute_result"
    }
   ],
   "source": [
    "nd.search('ali')"
   ]
  },
  {
   "cell_type": "code",
   "execution_count": 51,
   "metadata": {},
   "outputs": [],
   "source": [
    "def make_name(number, fa_den= 0.9):\n",
    "    \"\"\"\n",
    "    This function generate an Iranian name in 50% of the times and\n",
    "    an English name in the other 50% of the times.\n",
    "    \"\"\"\n",
    "    output=[]\n",
    "    for i in range(number):\n",
    "        if np.random.rand() < fa_den:\n",
    "            output.append(en_fake.name())\n",
    "        else:\n",
    "            output.append(fa_fake.name())\n",
    "    return output"
   ]
  },
  {
   "cell_type": "code",
   "execution_count": 52,
   "metadata": {},
   "outputs": [
    {
     "data": {
      "text/plain": [
       "['زينب تهرانی',\n",
       " 'مهدی اشرفی',\n",
       " 'عسل گلپایگانی',\n",
       " 'زینب نعمتی',\n",
       " 'Elizabeth Rivera',\n",
       " 'معصومه روحانی',\n",
       " 'Stephen Aguirre',\n",
       " 'الينا محجوب',\n",
       " 'Jeffrey Shaw',\n",
       " 'ريحانه میردامادی']"
      ]
     },
     "execution_count": 52,
     "metadata": {},
     "output_type": "execute_result"
    }
   ],
   "source": [
    "make_name(10, 0.5)"
   ]
  },
  {
   "cell_type": "markdown",
   "metadata": {},
   "source": [
    "## Making dataframe"
   ]
  },
  {
   "cell_type": "code",
   "execution_count": 55,
   "metadata": {},
   "outputs": [
    {
     "data": {
      "text/html": [
       "<div>\n",
       "<style scoped>\n",
       "    .dataframe tbody tr th:only-of-type {\n",
       "        vertical-align: middle;\n",
       "    }\n",
       "\n",
       "    .dataframe tbody tr th {\n",
       "        vertical-align: top;\n",
       "    }\n",
       "\n",
       "    .dataframe thead th {\n",
       "        text-align: right;\n",
       "    }\n",
       "</style>\n",
       "<table border=\"1\" class=\"dataframe\">\n",
       "  <thead>\n",
       "    <tr style=\"text-align: right;\">\n",
       "      <th></th>\n",
       "      <th>Name</th>\n",
       "    </tr>\n",
       "  </thead>\n",
       "  <tbody>\n",
       "    <tr>\n",
       "      <th>0</th>\n",
       "      <td>جناب آقای دکتر محمدعلي ضابطی</td>\n",
       "    </tr>\n",
       "    <tr>\n",
       "      <th>1</th>\n",
       "      <td>پارسا عزیزی</td>\n",
       "    </tr>\n",
       "    <tr>\n",
       "      <th>2</th>\n",
       "      <td>John Rosario II</td>\n",
       "    </tr>\n",
       "    <tr>\n",
       "      <th>3</th>\n",
       "      <td>Ivan Frost</td>\n",
       "    </tr>\n",
       "    <tr>\n",
       "      <th>4</th>\n",
       "      <td>Erica Martinez</td>\n",
       "    </tr>\n",
       "    <tr>\n",
       "      <th>5</th>\n",
       "      <td>مهدیس سرخوشیان</td>\n",
       "    </tr>\n",
       "    <tr>\n",
       "      <th>6</th>\n",
       "      <td>Emily Mccarthy</td>\n",
       "    </tr>\n",
       "    <tr>\n",
       "      <th>7</th>\n",
       "      <td>Amanda Sanders</td>\n",
       "    </tr>\n",
       "    <tr>\n",
       "      <th>8</th>\n",
       "      <td>Robin Rush</td>\n",
       "    </tr>\n",
       "    <tr>\n",
       "      <th>9</th>\n",
       "      <td>Richard Lewis</td>\n",
       "    </tr>\n",
       "  </tbody>\n",
       "</table>\n",
       "</div>"
      ],
      "text/plain": [
       "                           Name\n",
       "0  جناب آقای دکتر محمدعلي ضابطی\n",
       "1                   پارسا عزیزی\n",
       "2               John Rosario II\n",
       "3                    Ivan Frost\n",
       "4                Erica Martinez\n",
       "5                مهدیس سرخوشیان\n",
       "6                Emily Mccarthy\n",
       "7                Amanda Sanders\n",
       "8                    Robin Rush\n",
       "9                 Richard Lewis"
      ]
     },
     "execution_count": 55,
     "metadata": {},
     "output_type": "execute_result"
    }
   ],
   "source": [
    "df = pd.DataFrame(make_name(10,0.5), columns=['Name'])\n",
    "df"
   ]
  },
  {
   "cell_type": "code",
   "execution_count": 43,
   "metadata": {},
   "outputs": [
    {
     "ename": "AttributeError",
     "evalue": "module 'pandas' has no attribute 'random'",
     "output_type": "error",
     "traceback": [
      "\u001b[0;31m---------------------------------------------------------------------------\u001b[0m",
      "\u001b[0;31mAttributeError\u001b[0m                            Traceback (most recent call last)",
      "\u001b[1;32m/home/arash/projects/Names_general_info/main.ipynb Cell 9\u001b[0m in \u001b[0;36m<cell line: 1>\u001b[0;34m()\u001b[0m\n\u001b[0;32m----> <a href='vscode-notebook-cell://wsl%2Bubuntu-20.04/home/arash/projects/Names_general_info/main.ipynb#X13sdnNjb2RlLXJlbW90ZQ%3D%3D?line=0'>1</a>\u001b[0m np\u001b[39m.\u001b[39;49mrandom\u001b[39m.\u001b[39mrandom()\n",
      "File \u001b[0;32m~/.local/lib/python3.8/site-packages/pandas/__init__.py:261\u001b[0m, in \u001b[0;36m__getattr__\u001b[0;34m(name)\u001b[0m\n\u001b[1;32m    257\u001b[0m     \u001b[39mfrom\u001b[39;00m \u001b[39mpandas\u001b[39;00m\u001b[39m.\u001b[39;00m\u001b[39mcore\u001b[39;00m\u001b[39m.\u001b[39;00m\u001b[39marrays\u001b[39;00m\u001b[39m.\u001b[39;00m\u001b[39msparse\u001b[39;00m \u001b[39mimport\u001b[39;00m SparseArray \u001b[39mas\u001b[39;00m _SparseArray\n\u001b[1;32m    259\u001b[0m     \u001b[39mreturn\u001b[39;00m _SparseArray\n\u001b[0;32m--> 261\u001b[0m \u001b[39mraise\u001b[39;00m \u001b[39mAttributeError\u001b[39;00m(\u001b[39mf\u001b[39m\u001b[39m\"\u001b[39m\u001b[39mmodule \u001b[39m\u001b[39m'\u001b[39m\u001b[39mpandas\u001b[39m\u001b[39m'\u001b[39m\u001b[39m has no attribute \u001b[39m\u001b[39m'\u001b[39m\u001b[39m{\u001b[39;00mname\u001b[39m}\u001b[39;00m\u001b[39m'\u001b[39m\u001b[39m\"\u001b[39m)\n",
      "\u001b[0;31mAttributeError\u001b[0m: module 'pandas' has no attribute 'random'"
     ]
    }
   ],
   "source": []
  }
 ],
 "metadata": {
  "kernelspec": {
   "display_name": "Python 3.8.10 64-bit",
   "language": "python",
   "name": "python3"
  },
  "language_info": {
   "codemirror_mode": {
    "name": "ipython",
    "version": 3
   },
   "file_extension": ".py",
   "mimetype": "text/x-python",
   "name": "python",
   "nbconvert_exporter": "python",
   "pygments_lexer": "ipython3",
   "version": "3.8.10"
  },
  "orig_nbformat": 4,
  "vscode": {
   "interpreter": {
    "hash": "31f2aee4e71d21fbe5cf8b01ff0e069b9275f58929596ceb00d14d90e3e16cd6"
   }
  }
 },
 "nbformat": 4,
 "nbformat_minor": 2
}
